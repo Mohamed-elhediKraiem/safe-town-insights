{
 "cells": [
  {
   "cell_type": "markdown",
   "id": "ea6db4d3",
   "metadata": {},
   "source": [
    "# Dashboard\n",
    "## Ce code a pour but de mettre en valeur les données du ministère via un report\n",
    "### Préparation de la données pour affichage"
   ]
  },
  {
   "cell_type": "code",
   "execution_count": null,
   "id": "b23485fe",
   "metadata": {},
   "outputs": [
    {
     "name": "stderr",
     "output_type": "stream",
     "text": [
      "C:\\Users\\moham\\AppData\\Local\\Temp\\ipykernel_8024\\915034263.py:6: DtypeWarning: Columns (4) have mixed types. Specify dtype option on import or set low_memory=False.\n",
      "  df_resultat = pd.read_csv('../data_cleaning/resultat.csv', sep=';')\n"
     ]
    },
    {
     "name": "stdout",
     "output_type": "stream",
     "text": [
      "<method-wrapper '__int__' of numpy.ndarray object at 0x00000263FDD4A610>\n"
     ]
    }
   ],
   "source": [
    "import pandas as pd\n",
    "import streamlit as st\n",
    "\n",
    "df_crimes = pd.read_csv('../../data/dimension_crime.csv', sep=';')\n",
    "df_departements = pd.read_csv('../../data/dimension_departement_enrichi.csv', sep=';')\n",
    "df_resultat = pd.read_csv('../data_cleaning/resultat.csv', sep=';')\n",
    "\n",
    "df_merge = pd.merge(df_resultat, df_departements, on='Departement', how='left')\n",
    "df_merge = pd.merge(df_merge, df_crimes, on='Code index', how='left')\n",
    "#print(df_merge.head())\n",
    "\n",
    "print(df_merge['Annee'].values)"
   ]
  },
  {
   "cell_type": "markdown",
   "id": "b0882806",
   "metadata": {},
   "source": [
    "### Mise en place des filtres de l'affichage"
   ]
  },
  {
   "cell_type": "code",
   "execution_count": null,
   "id": "214b05fa",
   "metadata": {},
   "outputs": [
    {
     "name": "stderr",
     "output_type": "stream",
     "text": [
      "2025-09-09 21:57:13.874 WARNING streamlit.runtime.scriptrunner_utils.script_run_context: Thread 'MainThread': missing ScriptRunContext! This warning can be ignored when running in bare mode.\n",
      "2025-09-09 21:57:13.876 WARNING streamlit.runtime.state.session_state_proxy: Session state does not function when running a script without `streamlit run`\n",
      "2025-09-09 21:57:13.876 WARNING streamlit.runtime.scriptrunner_utils.script_run_context: Thread 'MainThread': missing ScriptRunContext! This warning can be ignored when running in bare mode.\n",
      "2025-09-09 21:57:13.876 WARNING streamlit.runtime.scriptrunner_utils.script_run_context: Thread 'MainThread': missing ScriptRunContext! This warning can be ignored when running in bare mode.\n",
      "2025-09-09 21:57:13.878 WARNING streamlit.runtime.scriptrunner_utils.script_run_context: Thread 'MainThread': missing ScriptRunContext! This warning can be ignored when running in bare mode.\n",
      "2025-09-09 21:57:13.878 WARNING streamlit.runtime.scriptrunner_utils.script_run_context: Thread 'MainThread': missing ScriptRunContext! This warning can be ignored when running in bare mode.\n",
      "2025-09-09 21:57:14.024 WARNING streamlit.runtime.scriptrunner_utils.script_run_context: Thread 'MainThread': missing ScriptRunContext! This warning can be ignored when running in bare mode.\n",
      "2025-09-09 21:57:14.030 WARNING streamlit.runtime.scriptrunner_utils.script_run_context: Thread 'MainThread': missing ScriptRunContext! This warning can be ignored when running in bare mode.\n",
      "2025-09-09 21:57:14.031 WARNING streamlit.runtime.scriptrunner_utils.script_run_context: Thread 'MainThread': missing ScriptRunContext! This warning can be ignored when running in bare mode.\n",
      "2025-09-09 21:57:14.031 WARNING streamlit.runtime.scriptrunner_utils.script_run_context: Thread 'MainThread': missing ScriptRunContext! This warning can be ignored when running in bare mode.\n",
      "2025-09-09 21:57:14.032 WARNING streamlit.runtime.scriptrunner_utils.script_run_context: Thread 'MainThread': missing ScriptRunContext! This warning can be ignored when running in bare mode.\n",
      "2025-09-09 21:57:14.033 WARNING streamlit.runtime.scriptrunner_utils.script_run_context: Thread 'MainThread': missing ScriptRunContext! This warning can be ignored when running in bare mode.\n",
      "2025-09-09 21:57:14.033 WARNING streamlit.runtime.scriptrunner_utils.script_run_context: Thread 'MainThread': missing ScriptRunContext! This warning can be ignored when running in bare mode.\n",
      "2025-09-09 21:57:14.035 WARNING streamlit.runtime.scriptrunner_utils.script_run_context: Thread 'MainThread': missing ScriptRunContext! This warning can be ignored when running in bare mode.\n",
      "2025-09-09 21:57:14.203 \n",
      "  \u001b[33m\u001b[1mWarning:\u001b[0m to view this Streamlit app on a browser, run it with the following\n",
      "  command:\n",
      "\n",
      "    streamlit run c:\\Python310\\lib\\site-packages\\ipykernel_launcher.py [ARGUMENTS]\n",
      "2025-09-09 21:57:14.204 Thread 'MainThread': missing ScriptRunContext! This warning can be ignored when running in bare mode.\n",
      "2025-09-09 21:57:14.205 Thread 'MainThread': missing ScriptRunContext! This warning can be ignored when running in bare mode.\n",
      "2025-09-09 21:57:14.206 Thread 'MainThread': missing ScriptRunContext! This warning can be ignored when running in bare mode.\n",
      "2025-09-09 21:57:14.348 Thread 'MainThread': missing ScriptRunContext! This warning can be ignored when running in bare mode.\n",
      "2025-09-09 21:57:14.855 Serialization of dataframe to Arrow table was unsuccessful. Applying automatic fixes for column types to make the dataframe Arrow-compatible.\n",
      "Traceback (most recent call last):\n",
      "  File \"c:\\Python310\\lib\\site-packages\\streamlit\\dataframe_util.py\", line 821, in convert_pandas_df_to_arrow_bytes\n",
      "    table = pa.Table.from_pandas(df)\n",
      "  File \"pyarrow\\\\table.pxi\", line 4795, in pyarrow.lib.Table.from_pandas\n",
      "  File \"c:\\Python310\\lib\\site-packages\\pyarrow\\pandas_compat.py\", line 650, in dataframe_to_arrays\n",
      "    arrays[i] = maybe_fut.result()\n",
      "  File \"c:\\Python310\\lib\\concurrent\\futures\\_base.py\", line 451, in result\n",
      "    return self.__get_result()\n",
      "  File \"c:\\Python310\\lib\\concurrent\\futures\\_base.py\", line 403, in __get_result\n",
      "    raise self._exception\n",
      "  File \"c:\\Python310\\lib\\concurrent\\futures\\thread.py\", line 58, in run\n",
      "    result = self.fn(*self.args, **self.kwargs)\n",
      "  File \"c:\\Python310\\lib\\site-packages\\pyarrow\\pandas_compat.py\", line 625, in convert_column\n",
      "    raise e\n",
      "  File \"c:\\Python310\\lib\\site-packages\\pyarrow\\pandas_compat.py\", line 619, in convert_column\n",
      "    result = pa.array(col, type=type_, from_pandas=True, safe=safe)\n",
      "  File \"pyarrow\\\\array.pxi\", line 365, in pyarrow.lib.array\n",
      "  File \"pyarrow\\\\array.pxi\", line 91, in pyarrow.lib._ndarray_to_array\n",
      "  File \"pyarrow\\\\error.pxi\", line 92, in pyarrow.lib.check_status\n",
      "pyarrow.lib.ArrowTypeError: (\"Expected bytes, got a 'float' object\", 'Conversion failed for column Departement with type object')\n",
      "2025-09-09 21:57:16.210 Thread 'MainThread': missing ScriptRunContext! This warning can be ignored when running in bare mode.\n",
      "2025-09-09 21:57:16.212 Thread 'MainThread': missing ScriptRunContext! This warning can be ignored when running in bare mode.\n",
      "2025-09-09 21:57:16.287 Thread 'MainThread': missing ScriptRunContext! This warning can be ignored when running in bare mode.\n"
     ]
    }
   ],
   "source": [
    "from streamlit_dynamic_filters import DynamicFilters\n",
    "\n",
    "st.title('Analyses des crimes en france')\n",
    "\n",
    "dynamicFilters = DynamicFilters(df_merge, filters=['Annee'])\n",
    "with st.sidebar:\n",
    "    dynamicFilters.display_filters()\n",
    "\n",
    "dynamicFilters.display_df()"
   ]
  }
 ],
 "metadata": {
  "kernelspec": {
   "display_name": "Python 3",
   "language": "python",
   "name": "python3"
  },
  "language_info": {
   "codemirror_mode": {
    "name": "ipython",
    "version": 3
   },
   "file_extension": ".py",
   "mimetype": "text/x-python",
   "name": "python",
   "nbconvert_exporter": "python",
   "pygments_lexer": "ipython3",
   "version": "3.10.7"
  }
 },
 "nbformat": 4,
 "nbformat_minor": 5
}
