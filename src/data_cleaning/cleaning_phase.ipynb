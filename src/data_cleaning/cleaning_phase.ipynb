{
 "cells": [
  {
   "cell_type": "markdown",
   "id": "5eba915e",
   "metadata": {},
   "source": [
    "# Import des bibliothèques et ressources"
   ]
  },
  {
   "cell_type": "code",
   "execution_count": 2,
   "id": "59f430aa",
   "metadata": {},
   "outputs": [],
   "source": [
    "import openpyxl \n",
    "import pandas as pd\n",
    "\n",
    "fichier = openpyxl.load_workbook('../../data/crimes-et-delits-enregistres-par-les-services-de-gendarmerie-et-de-police-depuis-2012.xlsx')"
   ]
  },
  {
   "cell_type": "markdown",
   "id": "bfa163aa",
   "metadata": {},
   "source": [
    "# C'est partis pour le reformatage d'une feuille"
   ]
  },
  {
   "cell_type": "code",
   "execution_count": 4,
   "id": "42d4ad7c",
   "metadata": {},
   "outputs": [
    {
     "name": "stdout",
     "output_type": "stream",
     "text": [
      "Traitement de la feuille :Services PN 2012\n",
      "Traitement de la feuille :Services PN 2013\n",
      "Traitement de la feuille :Services PN 2014\n",
      "Traitement de la feuille :Services PN 2015\n",
      "Traitement de la feuille :Services PN 2016\n",
      "Traitement de la feuille :Services PN 2017\n",
      "Traitement de la feuille :Services PN 2018\n",
      "Traitement de la feuille :Services PN 2019\n",
      "Traitement de la feuille :Services PN 2020\n",
      "Traitement de la feuille :Services PN 2021\n",
      "Traitement de la feuille :Services GN 2012\n",
      "Traitement de la feuille :Services GN 2013\n",
      "Traitement de la feuille :Services GN 2014\n",
      "Traitement de la feuille :Services GN 2015\n",
      "Traitement de la feuille :Services GN 2016\n",
      "Traitement de la feuille :Services GN 2017\n",
      "Traitement de la feuille :Services GN 2018\n",
      "Traitement de la feuille :Services GN 2019\n",
      "Traitement de la feuille :Services GN 2020\n",
      "Traitement de la feuille :Services GN 2021\n"
     ]
    }
   ],
   "source": [
    "dataTable = []\n",
    "\n",
    "for sheetname in fichier.sheetnames:\n",
    "    if sheetname != 'Présentation':\n",
    "        print('Traitement de la feuille :' + sheetname)\n",
    "        annee = sheetname[-4:]\n",
    "        service = sheetname[9:11]\n",
    "        feuil = fichier[sheetname]\n",
    "        if int(annee) >= 2018:\n",
    "            for col_idx, column in enumerate(feuil.iter_cols(min_col=3, max_col=609), start=3):\n",
    "                for row_idx, row in enumerate(feuil.iter_rows(min_col=1, max_col=609, min_row=4), start=4):\n",
    "                    #print(service, annee, column[0].value, column[1].value, column[2].value, row[0].value, row[1].value, row[col_idx-1].value)\n",
    "                    dataTable.append([service, annee, column[0].value, column[1].value, column[2].value, row[0].value, row[1].value, row[col_idx-1].value])\n",
    "\n",
    "\n",
    "mixdata = pd.DataFrame(dataTable, columns = ['Service', 'Annee','Departement','Perimetre','CSP','Code index','Libelle','Valeur'])\n",
    "mixdata.to_csv('resultat.csv',index=False, encoding='utf-8-sig', sep=';', mode='w')"
   ]
  }
 ],
 "metadata": {
  "kernelspec": {
   "display_name": "Python 3",
   "language": "python",
   "name": "python3"
  },
  "language_info": {
   "codemirror_mode": {
    "name": "ipython",
    "version": 3
   },
   "file_extension": ".py",
   "mimetype": "text/x-python",
   "name": "python",
   "nbconvert_exporter": "python",
   "pygments_lexer": "ipython3",
   "version": "3.10.7"
  }
 },
 "nbformat": 4,
 "nbformat_minor": 5
}
